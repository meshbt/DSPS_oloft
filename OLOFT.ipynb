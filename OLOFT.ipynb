{
 "cells": [
  {
   "cell_type": "code",
   "execution_count": 1,
   "metadata": {},
   "outputs": [],
   "source": [
    "import os\n",
    "\n",
    "# Set the GPU to use (in our case we want to use gpu 0, Please run on 1 gpu to replicate)\n",
    "os.environ[\"CUDA_VISIBLE_DEVICES\"] = \"0\""
   ]
  },
  {
   "cell_type": "markdown",
   "metadata": {},
   "source": [
    "# Data Processing For Training\n",
    "First we will use the preprocessed npy files to create folders with images and create train validation splits for training and testing using autogluon. If the data folder is empty the data will be automatically downloaded."
   ]
  },
  {
   "cell_type": "code",
   "execution_count": 2,
   "metadata": {},
   "outputs": [
    {
     "name": "stderr",
     "output_type": "stream",
     "text": [
      "Downloading...\n",
      "From (original): https://drive.google.com/uc?id=1E2xiuhgdvtBs8Wd6GR5HVyRz6qjVzoKb\n",
      "From (redirected): https://drive.google.com/uc?id=1E2xiuhgdvtBs8Wd6GR5HVyRz6qjVzoKb&confirm=t&uuid=a90e4413-f72d-46c7-82aa-33532d82c59e\n",
      "To: /home/turbo/DSPS_Latest/DSPS_oloft/data/train_images_512.npy\n",
      "100%|██████████| 6.06G/6.06G [00:55<00:00, 109MB/s] \n",
      "Downloading...\n",
      "From (original): https://drive.google.com/uc?id=1iv06AB1nSJovnTr1DlNyINLFdeH_xhqJ\n",
      "From (redirected): https://drive.google.com/uc?id=1iv06AB1nSJovnTr1DlNyINLFdeH_xhqJ&confirm=t&uuid=fb448012-8ae4-49aa-9100-4587b2a7dd7a\n",
      "To: /home/turbo/DSPS_Latest/DSPS_oloft/data/test_images_512.npy\n",
      "100%|██████████| 2.60G/2.60G [00:24<00:00, 107MB/s] \n",
      "Downloading...\n",
      "From: https://drive.google.com/uc?id=1SV2WTWMFXaYALAe_-9Q0rogBa_UfIsRR\n",
      "To: /home/turbo/DSPS_Latest/DSPS_oloft/data/train_labels.npy\n",
      "100%|██████████| 61.7k/61.7k [00:00<00:00, 2.67MB/s]\n",
      "Downloading...\n",
      "From: https://drive.google.com/uc?id=1F4zB0VLtOOr1FjN_AO8x9FhiY25JJdkQ\n",
      "To: /home/turbo/DSPS_Latest/DSPS_oloft/data/test_image_names.npy\n",
      "100%|██████████| 1.10M/1.10M [00:00<00:00, 12.1MB/s]\n"
     ]
    },
    {
     "name": "stdout",
     "output_type": "stream",
     "text": [
      "The images for training/validation/test have been processed and saved in the folder:  ./data/processed\n"
     ]
    }
   ],
   "source": [
    "%run ./scripts/data_processing.py --seed 999 --dataset_folder ./data --resolution 512"
   ]
  },
  {
   "cell_type": "markdown",
   "metadata": {},
   "source": [
    "# Training\n",
    "Here we train the autogluon TIMM model. \n",
    "\n",
    "#### NOTE: Skip this if you have downloaded the checkpoint."
   ]
  },
  {
   "cell_type": "code",
   "execution_count": 3,
   "metadata": {},
   "outputs": [
    {
     "name": "stderr",
     "output_type": "stream",
     "text": [
      "=================== System Info ===================\n",
      "AutoGluon Version:  1.0.0\n",
      "Python Version:     3.10.13\n",
      "Operating System:   Linux\n",
      "Platform Machine:   x86_64\n",
      "Platform Version:   #18~22.04.1-Ubuntu SMP PREEMPT_DYNAMIC Wed Feb  7 11:40:03 UTC 2\n",
      "CPU Count:          32\n",
      "Pytorch Version:    2.0.0.post304\n",
      "CUDA Version:       11.2\n",
      "Memory Avail:       106.18 GB / 125.56 GB (84.6%)\n",
      "Disk Space Avail:   921.59 GB / 1830.21 GB (50.4%)\n",
      "===================================================\n",
      "AutoGluon infers your prediction problem is: 'multiclass' (because dtype of label-column == float, but few unique label-values observed and label-values can be converted to int).\n",
      "\tFirst 10 (of 97) unique label values:  [100.0, 12.0, 29.0, 4.0, 36.0, 45.0, 64.0, 71.0, 41.0, 48.0]\n",
      "\tIf 'multiclass' is not the correct problem_type, please manually specify the problem_type parameter during predictor init (You may specify problem_type as one of: ['binary', 'multiclass', 'regression'])\n",
      "\n",
      "AutoMM starts to create your model. ✨✨✨\n",
      "\n",
      "To track the learning progress, you can open a terminal and launch Tensorboard:\n",
      "    ```shell\n",
      "    # Assume you have installed tensorboard\n",
      "    tensorboard --logdir /home/turbo/DSPS_Latest/DSPS_oloft/checkpoint\n",
      "    ```\n",
      "\n",
      "Global seed set to 0\n",
      "GPU Count: 1\n",
      "GPU Count to be Used: 1\n",
      "GPU 0 Name: NVIDIA GeForce RTX 4090\n",
      "GPU 0 Memory: 1.53GB/23.99GB (Used/Total)\n",
      "\n",
      "Using 16bit Automatic Mixed Precision (AMP)\n",
      "GPU available: True (cuda), used: True\n",
      "TPU available: False, using: 0 TPU cores\n",
      "IPU available: False, using: 0 IPUs\n",
      "HPU available: False, using: 0 HPUs\n",
      "You are using a CUDA device ('NVIDIA GeForce RTX 4090') that has Tensor Cores. To properly utilize them, you should set `torch.set_float32_matmul_precision('medium' | 'high')` which will trade-off precision for performance. For more details, read https://pytorch.org/docs/stable/generated/torch.set_float32_matmul_precision.html#torch.set_float32_matmul_precision\n",
      "LOCAL_RANK: 0 - CUDA_VISIBLE_DEVICES: [0]\n",
      "\n",
      "  | Name              | Type                            | Params\n",
      "----------------------------------------------------------------------\n",
      "0 | model             | TimmAutoModelForImagePrediction | 96.0 M\n",
      "1 | validation_metric | MulticlassAccuracy              | 0     \n",
      "2 | loss_func         | CrossEntropyLoss                | 0     \n",
      "----------------------------------------------------------------------\n",
      "96.0 M    Trainable params\n",
      "0         Non-trainable params\n",
      "96.0 M    Total params\n",
      "383.915   Total estimated model params size (MB)\n"
     ]
    },
    {
     "data": {
      "application/vnd.jupyter.widget-view+json": {
       "model_id": "0a28b20367be4ec4b5d74f7b1bb67970",
       "version_major": 2,
       "version_minor": 0
      },
      "text/plain": [
       "Sanity Checking: 0it [00:00, ?it/s]"
      ]
     },
     "metadata": {},
     "output_type": "display_data"
    },
    {
     "data": {
      "application/vnd.jupyter.widget-view+json": {
       "model_id": "419c3e3355a047de9769d493c548e83b",
       "version_major": 2,
       "version_minor": 0
      },
      "text/plain": [
       "Training: 0it [00:00, ?it/s]"
      ]
     },
     "metadata": {},
     "output_type": "display_data"
    },
    {
     "data": {
      "application/vnd.jupyter.widget-view+json": {
       "model_id": "151fe46ce83e419fa1e8728dfefc443e",
       "version_major": 2,
       "version_minor": 0
      },
      "text/plain": [
       "Validation: 0it [00:00, ?it/s]"
      ]
     },
     "metadata": {},
     "output_type": "display_data"
    },
    {
     "name": "stderr",
     "output_type": "stream",
     "text": [
      "Epoch 0, global step 27: 'val_accuracy' reached 0.34416 (best 0.34416), saving model to '/home/turbo/DSPS_Latest/DSPS_oloft/checkpoint/epoch=0-step=27.ckpt' as top 3\n"
     ]
    },
    {
     "data": {
      "application/vnd.jupyter.widget-view+json": {
       "model_id": "fd91711b64fd4dd4bf1b00571cb76482",
       "version_major": 2,
       "version_minor": 0
      },
      "text/plain": [
       "Validation: 0it [00:00, ?it/s]"
      ]
     },
     "metadata": {},
     "output_type": "display_data"
    },
    {
     "name": "stderr",
     "output_type": "stream",
     "text": [
      "Epoch 0, global step 54: 'val_accuracy' reached 0.38701 (best 0.38701), saving model to '/home/turbo/DSPS_Latest/DSPS_oloft/checkpoint/epoch=0-step=54.ckpt' as top 3\n"
     ]
    },
    {
     "data": {
      "application/vnd.jupyter.widget-view+json": {
       "model_id": "ca28a0cf3de3459e98e554e216c5b99a",
       "version_major": 2,
       "version_minor": 0
      },
      "text/plain": [
       "Validation: 0it [00:00, ?it/s]"
      ]
     },
     "metadata": {},
     "output_type": "display_data"
    },
    {
     "name": "stderr",
     "output_type": "stream",
     "text": [
      "Epoch 1, global step 82: 'val_accuracy' reached 0.41429 (best 0.41429), saving model to '/home/turbo/DSPS_Latest/DSPS_oloft/checkpoint/epoch=1-step=82.ckpt' as top 3\n"
     ]
    },
    {
     "data": {
      "application/vnd.jupyter.widget-view+json": {
       "model_id": "7083f8e21b7343fb95664f3161b1aaac",
       "version_major": 2,
       "version_minor": 0
      },
      "text/plain": [
       "Validation: 0it [00:00, ?it/s]"
      ]
     },
     "metadata": {},
     "output_type": "display_data"
    },
    {
     "name": "stderr",
     "output_type": "stream",
     "text": [
      "Epoch 1, global step 109: 'val_accuracy' reached 0.42987 (best 0.42987), saving model to '/home/turbo/DSPS_Latest/DSPS_oloft/checkpoint/epoch=1-step=109.ckpt' as top 3\n"
     ]
    },
    {
     "data": {
      "application/vnd.jupyter.widget-view+json": {
       "model_id": "f7e21bbdcdaa4cc284d3f67d9965a886",
       "version_major": 2,
       "version_minor": 0
      },
      "text/plain": [
       "Validation: 0it [00:00, ?it/s]"
      ]
     },
     "metadata": {},
     "output_type": "display_data"
    },
    {
     "name": "stderr",
     "output_type": "stream",
     "text": [
      "Epoch 2, global step 137: 'val_accuracy' reached 0.44805 (best 0.44805), saving model to '/home/turbo/DSPS_Latest/DSPS_oloft/checkpoint/epoch=2-step=137.ckpt' as top 3\n"
     ]
    },
    {
     "data": {
      "application/vnd.jupyter.widget-view+json": {
       "model_id": "49736bcd5f9b460ca693a7de837990a3",
       "version_major": 2,
       "version_minor": 0
      },
      "text/plain": [
       "Validation: 0it [00:00, ?it/s]"
      ]
     },
     "metadata": {},
     "output_type": "display_data"
    },
    {
     "name": "stderr",
     "output_type": "stream",
     "text": [
      "Epoch 2, global step 164: 'val_accuracy' reached 0.44026 (best 0.44805), saving model to '/home/turbo/DSPS_Latest/DSPS_oloft/checkpoint/epoch=2-step=164.ckpt' as top 3\n"
     ]
    },
    {
     "data": {
      "application/vnd.jupyter.widget-view+json": {
       "model_id": "1c3c4743b68e4cd28ac301c974106b5b",
       "version_major": 2,
       "version_minor": 0
      },
      "text/plain": [
       "Validation: 0it [00:00, ?it/s]"
      ]
     },
     "metadata": {},
     "output_type": "display_data"
    },
    {
     "name": "stderr",
     "output_type": "stream",
     "text": [
      "Epoch 3, global step 192: 'val_accuracy' reached 0.43247 (best 0.44805), saving model to '/home/turbo/DSPS_Latest/DSPS_oloft/checkpoint/epoch=3-step=192.ckpt' as top 3\n"
     ]
    },
    {
     "data": {
      "application/vnd.jupyter.widget-view+json": {
       "model_id": "6288c4087ee249619cbfddcba1657ff5",
       "version_major": 2,
       "version_minor": 0
      },
      "text/plain": [
       "Validation: 0it [00:00, ?it/s]"
      ]
     },
     "metadata": {},
     "output_type": "display_data"
    },
    {
     "name": "stderr",
     "output_type": "stream",
     "text": [
      "Epoch 3, global step 219: 'val_accuracy' reached 0.45455 (best 0.45455), saving model to '/home/turbo/DSPS_Latest/DSPS_oloft/checkpoint/epoch=3-step=219.ckpt' as top 3\n"
     ]
    },
    {
     "data": {
      "application/vnd.jupyter.widget-view+json": {
       "model_id": "6cef05dacf1e4053af1d14e861b691ea",
       "version_major": 2,
       "version_minor": 0
      },
      "text/plain": [
       "Validation: 0it [00:00, ?it/s]"
      ]
     },
     "metadata": {},
     "output_type": "display_data"
    },
    {
     "name": "stderr",
     "output_type": "stream",
     "text": [
      "Epoch 4, global step 247: 'val_accuracy' reached 0.44935 (best 0.45455), saving model to '/home/turbo/DSPS_Latest/DSPS_oloft/checkpoint/epoch=4-step=247.ckpt' as top 3\n"
     ]
    },
    {
     "data": {
      "application/vnd.jupyter.widget-view+json": {
       "model_id": "3c86305a86b042169157cfe2a03fe7ba",
       "version_major": 2,
       "version_minor": 0
      },
      "text/plain": [
       "Validation: 0it [00:00, ?it/s]"
      ]
     },
     "metadata": {},
     "output_type": "display_data"
    },
    {
     "name": "stderr",
     "output_type": "stream",
     "text": [
      "Epoch 4, global step 274: 'val_accuracy' was not in top 3\n"
     ]
    },
    {
     "data": {
      "application/vnd.jupyter.widget-view+json": {
       "model_id": "46fe54b926e0420a90b99014dbce838f",
       "version_major": 2,
       "version_minor": 0
      },
      "text/plain": [
       "Validation: 0it [00:00, ?it/s]"
      ]
     },
     "metadata": {},
     "output_type": "display_data"
    },
    {
     "name": "stderr",
     "output_type": "stream",
     "text": [
      "Epoch 5, global step 302: 'val_accuracy' reached 0.45065 (best 0.45455), saving model to '/home/turbo/DSPS_Latest/DSPS_oloft/checkpoint/epoch=5-step=302.ckpt' as top 3\n"
     ]
    },
    {
     "data": {
      "application/vnd.jupyter.widget-view+json": {
       "model_id": "81e63a50eea94b34b8c560dbb4c9518a",
       "version_major": 2,
       "version_minor": 0
      },
      "text/plain": [
       "Validation: 0it [00:00, ?it/s]"
      ]
     },
     "metadata": {},
     "output_type": "display_data"
    },
    {
     "name": "stderr",
     "output_type": "stream",
     "text": [
      "Epoch 5, global step 329: 'val_accuracy' reached 0.46623 (best 0.46623), saving model to '/home/turbo/DSPS_Latest/DSPS_oloft/checkpoint/epoch=5-step=329.ckpt' as top 3\n"
     ]
    },
    {
     "data": {
      "application/vnd.jupyter.widget-view+json": {
       "model_id": "fb6e6a0494d64387bb47063344f4addb",
       "version_major": 2,
       "version_minor": 0
      },
      "text/plain": [
       "Validation: 0it [00:00, ?it/s]"
      ]
     },
     "metadata": {},
     "output_type": "display_data"
    },
    {
     "name": "stderr",
     "output_type": "stream",
     "text": [
      "Epoch 6, global step 357: 'val_accuracy' was not in top 3\n"
     ]
    },
    {
     "data": {
      "application/vnd.jupyter.widget-view+json": {
       "model_id": "ec677d2b6cfc44618de78499a9a8c885",
       "version_major": 2,
       "version_minor": 0
      },
      "text/plain": [
       "Validation: 0it [00:00, ?it/s]"
      ]
     },
     "metadata": {},
     "output_type": "display_data"
    },
    {
     "name": "stderr",
     "output_type": "stream",
     "text": [
      "Epoch 6, global step 384: 'val_accuracy' was not in top 3\n"
     ]
    },
    {
     "data": {
      "application/vnd.jupyter.widget-view+json": {
       "model_id": "5130ec9178444132b762b6ffa80b17a2",
       "version_major": 2,
       "version_minor": 0
      },
      "text/plain": [
       "Validation: 0it [00:00, ?it/s]"
      ]
     },
     "metadata": {},
     "output_type": "display_data"
    },
    {
     "name": "stderr",
     "output_type": "stream",
     "text": [
      "Epoch 7, global step 412: 'val_accuracy' reached 0.45325 (best 0.46623), saving model to '/home/turbo/DSPS_Latest/DSPS_oloft/checkpoint/epoch=7-step=412.ckpt' as top 3\n"
     ]
    },
    {
     "data": {
      "application/vnd.jupyter.widget-view+json": {
       "model_id": "fc213e042200451e99c0e728118834f8",
       "version_major": 2,
       "version_minor": 0
      },
      "text/plain": [
       "Validation: 0it [00:00, ?it/s]"
      ]
     },
     "metadata": {},
     "output_type": "display_data"
    },
    {
     "name": "stderr",
     "output_type": "stream",
     "text": [
      "Epoch 7, global step 439: 'val_accuracy' was not in top 3\n"
     ]
    },
    {
     "data": {
      "application/vnd.jupyter.widget-view+json": {
       "model_id": "053c48ea7ded4b0f8b4e54f7d0f49959",
       "version_major": 2,
       "version_minor": 0
      },
      "text/plain": [
       "Validation: 0it [00:00, ?it/s]"
      ]
     },
     "metadata": {},
     "output_type": "display_data"
    },
    {
     "name": "stderr",
     "output_type": "stream",
     "text": [
      "Epoch 8, global step 467: 'val_accuracy' was not in top 3\n"
     ]
    },
    {
     "data": {
      "application/vnd.jupyter.widget-view+json": {
       "model_id": "e2ad0e9f1b4b45d08452d6150d6bcb3d",
       "version_major": 2,
       "version_minor": 0
      },
      "text/plain": [
       "Validation: 0it [00:00, ?it/s]"
      ]
     },
     "metadata": {},
     "output_type": "display_data"
    },
    {
     "name": "stderr",
     "output_type": "stream",
     "text": [
      "Epoch 8, global step 494: 'val_accuracy' was not in top 3\n"
     ]
    },
    {
     "data": {
      "application/vnd.jupyter.widget-view+json": {
       "model_id": "d82c2289c4e84862b7312a4bdf13306a",
       "version_major": 2,
       "version_minor": 0
      },
      "text/plain": [
       "Validation: 0it [00:00, ?it/s]"
      ]
     },
     "metadata": {},
     "output_type": "display_data"
    },
    {
     "name": "stderr",
     "output_type": "stream",
     "text": [
      "Epoch 9, global step 522: 'val_accuracy' was not in top 3\n"
     ]
    },
    {
     "data": {
      "application/vnd.jupyter.widget-view+json": {
       "model_id": "6c2da60484ef4e7da549bc24b440dd5d",
       "version_major": 2,
       "version_minor": 0
      },
      "text/plain": [
       "Validation: 0it [00:00, ?it/s]"
      ]
     },
     "metadata": {},
     "output_type": "display_data"
    },
    {
     "name": "stderr",
     "output_type": "stream",
     "text": [
      "Epoch 9, global step 549: 'val_accuracy' was not in top 3\n",
      "`Trainer.fit` stopped: `max_epochs=10` reached.\n",
      "Start to fuse 3 checkpoints via the greedy soup algorithm.\n"
     ]
    },
    {
     "data": {
      "application/vnd.jupyter.widget-view+json": {
       "model_id": "a92349c223a943ba86da8dcd4a0e06d1",
       "version_major": 2,
       "version_minor": 0
      },
      "text/plain": [
       "Predicting: 0it [00:00, ?it/s]"
      ]
     },
     "metadata": {},
     "output_type": "display_data"
    },
    {
     "data": {
      "application/vnd.jupyter.widget-view+json": {
       "model_id": "0bf7c3cc279342cd81eacfd948379823",
       "version_major": 2,
       "version_minor": 0
      },
      "text/plain": [
       "Predicting: 0it [00:00, ?it/s]"
      ]
     },
     "metadata": {},
     "output_type": "display_data"
    },
    {
     "data": {
      "application/vnd.jupyter.widget-view+json": {
       "model_id": "e38d48cb1991402296a392ec564a4909",
       "version_major": 2,
       "version_minor": 0
      },
      "text/plain": [
       "Predicting: 0it [00:00, ?it/s]"
      ]
     },
     "metadata": {},
     "output_type": "display_data"
    },
    {
     "name": "stderr",
     "output_type": "stream",
     "text": [
      "AutoMM has created your model. 🎉🎉🎉\n",
      "\n",
      "To load the model, use the code below:\n",
      "    ```python\n",
      "    from autogluon.multimodal import MultiModalPredictor\n",
      "    predictor = MultiModalPredictor.load(\"/home/turbo/DSPS_Latest/DSPS_oloft/checkpoint\")\n",
      "    ```\n",
      "\n",
      "If you are not satisfied with the model, try to increase the training time, \n",
      "adjust the hyperparameters (https://auto.gluon.ai/stable/tutorials/multimodal/advanced_topics/customization.html),\n",
      "or post issues on GitHub (https://github.com/autogluon/autogluon/issues).\n",
      "\n",
      "\n"
     ]
    }
   ],
   "source": [
    "%run ./scripts/autogluon_training.py --seed 0 --dataset_folder ./data/processed --model_folder ./checkpoint"
   ]
  },
  {
   "cell_type": "markdown",
   "metadata": {},
   "source": [
    "# Conservative Conformal Inference\n",
    "Here we perform predictions on the test data. We find the threshhold for 75% accuracy marginal statistical guarantee and use that to determine when the model is certain. In the cases of uncertainty the predictions will revert to the lowest score (most conservative) value amongst the top 2 labels predicted by the model."
   ]
  },
  {
   "cell_type": "code",
   "execution_count": 4,
   "metadata": {},
   "outputs": [
    {
     "name": "stderr",
     "output_type": "stream",
     "text": [
      "Load pretrained checkpoint: /home/turbo/DSPS_Latest/DSPS_oloft/checkpoint/model.ckpt\n"
     ]
    },
    {
     "data": {
      "application/vnd.jupyter.widget-view+json": {
       "model_id": "813becd0163f41d8b71d0b0171b80596",
       "version_major": 2,
       "version_minor": 0
      },
      "text/plain": [
       "Predicting: 0it [00:00, ?it/s]"
      ]
     },
     "metadata": {},
     "output_type": "display_data"
    },
    {
     "data": {
      "application/vnd.jupyter.widget-view+json": {
       "model_id": "20b9573d63664f9490b595e87991faab",
       "version_major": 2,
       "version_minor": 0
      },
      "text/plain": [
       "Predicting: 0it [00:00, ?it/s]"
      ]
     },
     "metadata": {},
     "output_type": "display_data"
    },
    {
     "data": {
      "application/vnd.jupyter.widget-view+json": {
       "model_id": "46ac5ae7ba1647c598c87a14715772cb",
       "version_major": 2,
       "version_minor": 0
      },
      "text/plain": [
       "Predicting: 0it [00:00, ?it/s]"
      ]
     },
     "metadata": {},
     "output_type": "display_data"
    },
    {
     "data": {
      "application/vnd.jupyter.widget-view+json": {
       "model_id": "409d5549aac1467fa10e6a2c0e320a02",
       "version_major": 2,
       "version_minor": 0
      },
      "text/plain": [
       "Predicting: 0it [00:00, ?it/s]"
      ]
     },
     "metadata": {},
     "output_type": "display_data"
    },
    {
     "data": {
      "application/vnd.jupyter.widget-view+json": {
       "model_id": "5eb00a77aa7a41c3ba79e4131d6c5f07",
       "version_major": 2,
       "version_minor": 0
      },
      "text/plain": [
       "Predicting: 0it [00:00, ?it/s]"
      ]
     },
     "metadata": {},
     "output_type": "display_data"
    }
   ],
   "source": [
    "%run ./scripts/conformal_inference.py --dataset_folder ./data/processed --model_folder ./checkpoint --alpha 0.25 --top_k 2 --target_json results.json"
   ]
  }
 ],
 "metadata": {
  "kernelspec": {
   "display_name": "autogluon",
   "language": "python",
   "name": "python3"
  },
  "language_info": {
   "codemirror_mode": {
    "name": "ipython",
    "version": 3
   },
   "file_extension": ".py",
   "mimetype": "text/x-python",
   "name": "python",
   "nbconvert_exporter": "python",
   "pygments_lexer": "ipython3",
   "version": "3.10.13"
  }
 },
 "nbformat": 4,
 "nbformat_minor": 2
}
