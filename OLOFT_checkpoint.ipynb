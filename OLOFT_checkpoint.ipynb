{
 "cells": [
  {
   "cell_type": "code",
   "execution_count": 1,
   "metadata": {},
   "outputs": [],
   "source": [
    "import os\n",
    "\n",
    "# Set the GPU to use (in our case we want to use gpu 0, Please run on 1 gpu to replicate)\n",
    "os.environ[\"CUDA_VISIBLE_DEVICES\"] = \"0\""
   ]
  },
  {
   "cell_type": "markdown",
   "metadata": {},
   "source": [
    "# Data Processing For Training\n",
    "First we will use the preprocessed npy files to create folders with images and create train validation splits for training and testing using autogluon. If the data folder is empty the data will be automatically downloaded."
   ]
  },
  {
   "cell_type": "code",
   "execution_count": 2,
   "metadata": {},
   "outputs": [
    {
     "name": "stderr",
     "output_type": "stream",
     "text": [
      "Downloading...\n",
      "From (original): https://drive.google.com/uc?id=1E2xiuhgdvtBs8Wd6GR5HVyRz6qjVzoKb\n",
      "From (redirected): https://drive.google.com/uc?id=1E2xiuhgdvtBs8Wd6GR5HVyRz6qjVzoKb&confirm=t&uuid=7fccaf82-4dc3-4f15-ade7-fb3929419c6d\n",
      "To: /home/turbo/DSPS_Latest/DSPS_oloft/data/train_images_512.npy\n",
      "100%|██████████| 6.06G/6.06G [00:55<00:00, 110MB/s] \n",
      "Downloading...\n",
      "From (original): https://drive.google.com/uc?id=1iv06AB1nSJovnTr1DlNyINLFdeH_xhqJ\n",
      "From (redirected): https://drive.google.com/uc?id=1iv06AB1nSJovnTr1DlNyINLFdeH_xhqJ&confirm=t&uuid=9dc2b635-8811-486c-b6b7-710863f7f2fc\n",
      "To: /home/turbo/DSPS_Latest/DSPS_oloft/data/test_images_512.npy\n",
      "100%|██████████| 2.60G/2.60G [00:24<00:00, 107MB/s] \n",
      "Downloading...\n",
      "From: https://drive.google.com/uc?id=1SV2WTWMFXaYALAe_-9Q0rogBa_UfIsRR\n",
      "To: /home/turbo/DSPS_Latest/DSPS_oloft/data/train_labels.npy\n",
      "100%|██████████| 61.7k/61.7k [00:00<00:00, 2.54MB/s]\n",
      "Downloading...\n",
      "From: https://drive.google.com/uc?id=1F4zB0VLtOOr1FjN_AO8x9FhiY25JJdkQ\n",
      "To: /home/turbo/DSPS_Latest/DSPS_oloft/data/test_image_names.npy\n",
      "100%|██████████| 1.10M/1.10M [00:00<00:00, 12.4MB/s]\n"
     ]
    },
    {
     "name": "stdout",
     "output_type": "stream",
     "text": [
      "The images for training/validation/test have been processed and saved in the folder:  ./data/processed\n"
     ]
    }
   ],
   "source": [
    "%run ./scripts/data_processing.py --seed 999 --dataset_folder ./data --resolution 512"
   ]
  },
  {
   "cell_type": "markdown",
   "metadata": {},
   "source": [
    "# Conservative Conformal Inference From Checkpoint\n",
    "Here we perform predictions on the test data. We find the threshhold for 75% accuracy marginal statistical guarantee and use that to determine when the model is certain. In the cases of uncertainty the predictions will revert to the lowest score (most conservative) value amongst the top 2 labels predicted by the model."
   ]
  },
  {
   "cell_type": "code",
   "execution_count": 3,
   "metadata": {},
   "outputs": [
    {
     "name": "stderr",
     "output_type": "stream",
     "text": [
      "Downloading...\n",
      "From (original): https://drive.google.com/uc?id=1onLzn1LgTW80V_KX6AEgWY4J7blnWzho\n",
      "From (redirected): https://drive.google.com/uc?id=1onLzn1LgTW80V_KX6AEgWY4J7blnWzho&confirm=t&uuid=99b19664-7de3-4463-b083-ba6dea66ead2\n",
      "To: /home/turbo/DSPS_Latest/DSPS_oloft/checkpoint_1onLzn1LgTW80V_KX6AEgWY4J7blnWzho/checkpoint.zip\n",
      "100%|██████████| 356M/356M [00:04<00:00, 86.7MB/s] \n",
      "Load pretrained checkpoint: /home/turbo/DSPS_Latest/DSPS_oloft/checkpoint_1onLzn1LgTW80V_KX6AEgWY4J7blnWzho/model.ckpt\n",
      "You are using a CUDA device ('NVIDIA GeForce RTX 4090') that has Tensor Cores. To properly utilize them, you should set `torch.set_float32_matmul_precision('medium' | 'high')` which will trade-off precision for performance. For more details, read https://pytorch.org/docs/stable/generated/torch.set_float32_matmul_precision.html#torch.set_float32_matmul_precision\n"
     ]
    },
    {
     "data": {
      "application/vnd.jupyter.widget-view+json": {
       "model_id": "fa621c1ef4cf48cea1f0df9fe15807d9",
       "version_major": 2,
       "version_minor": 0
      },
      "text/plain": [
       "Predicting: 0it [00:00, ?it/s]"
      ]
     },
     "metadata": {},
     "output_type": "display_data"
    },
    {
     "data": {
      "application/vnd.jupyter.widget-view+json": {
       "model_id": "bb6b70815d7f474c93f23948b2df900a",
       "version_major": 2,
       "version_minor": 0
      },
      "text/plain": [
       "Predicting: 0it [00:00, ?it/s]"
      ]
     },
     "metadata": {},
     "output_type": "display_data"
    },
    {
     "data": {
      "application/vnd.jupyter.widget-view+json": {
       "model_id": "ce4bdb568d994e5b886f249373b6ef62",
       "version_major": 2,
       "version_minor": 0
      },
      "text/plain": [
       "Predicting: 0it [00:00, ?it/s]"
      ]
     },
     "metadata": {},
     "output_type": "display_data"
    },
    {
     "data": {
      "application/vnd.jupyter.widget-view+json": {
       "model_id": "fd96409bb1304bf387a0e8f3a0c0b6e6",
       "version_major": 2,
       "version_minor": 0
      },
      "text/plain": [
       "Predicting: 0it [00:00, ?it/s]"
      ]
     },
     "metadata": {},
     "output_type": "display_data"
    },
    {
     "data": {
      "application/vnd.jupyter.widget-view+json": {
       "model_id": "5cec5c860073462d9d711ef8b5b6c2a1",
       "version_major": 2,
       "version_minor": 0
      },
      "text/plain": [
       "Predicting: 0it [00:00, ?it/s]"
      ]
     },
     "metadata": {},
     "output_type": "display_data"
    }
   ],
   "source": [
    "%run ./scripts/conformal_inference.py --dataset_folder ./data/processed --model_folder online --alpha 0.25 --top_k 2 --target_json results.json"
   ]
  }
 ],
 "metadata": {
  "kernelspec": {
   "display_name": "autogluon",
   "language": "python",
   "name": "python3"
  },
  "language_info": {
   "codemirror_mode": {
    "name": "ipython",
    "version": 3
   },
   "file_extension": ".py",
   "mimetype": "text/x-python",
   "name": "python",
   "nbconvert_exporter": "python",
   "pygments_lexer": "ipython3",
   "version": "3.1.0"
  }
 },
 "nbformat": 4,
 "nbformat_minor": 2
}
